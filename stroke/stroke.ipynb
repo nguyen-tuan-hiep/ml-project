{
 "cells": [
  {
   "attachments": {},
   "cell_type": "markdown",
   "metadata": {},
   "source": [
    "# Import libraries\n"
   ]
  },
  {
   "cell_type": "code",
   "execution_count": 2566,
   "metadata": {},
   "outputs": [],
   "source": [
    "import pandas as pd\n",
    "import numpy as np\n",
    "import matplotlib.pyplot as plt\n",
    "import seaborn as sns\n",
    "from matplotlib.gridspec import GridSpec\n",
    "from imblearn.over_sampling import SMOTE\n",
    "from sklearn.preprocessing import OrdinalEncoder, OneHotEncoder, MinMaxScaler\n",
    "from sklearn.compose import make_column_transformer\n",
    "from sklearn.model_selection import train_test_split\n",
    "from sklearn.svm import SVC\n",
    "from sklearn.tree import DecisionTreeClassifier\n",
    "from sklearn.metrics import recall_score, accuracy_score, f1_score, precision_score, make_scorer, ConfusionMatrixDisplay\n",
    "from sklearn import decomposition, tree\n",
    "from sklearn.feature_selection import SelectKBest, chi2\n",
    "from sklearn.pipeline import Pipeline\n",
    "from sklearn.model_selection import GridSearchCV\n",
    "import warnings\n",
    "warnings.filterwarnings(\"ignore\")\n",
    "%matplotlib inline\n"
   ]
  },
  {
   "attachments": {},
   "cell_type": "markdown",
   "metadata": {},
   "source": [
    "# Read data\n"
   ]
  },
  {
   "cell_type": "code",
   "execution_count": 2567,
   "metadata": {},
   "outputs": [
    {
     "data": {
      "text/html": [
       "<div>\n",
       "<style scoped>\n",
       "    .dataframe tbody tr th:only-of-type {\n",
       "        vertical-align: middle;\n",
       "    }\n",
       "\n",
       "    .dataframe tbody tr th {\n",
       "        vertical-align: top;\n",
       "    }\n",
       "\n",
       "    .dataframe thead th {\n",
       "        text-align: right;\n",
       "    }\n",
       "</style>\n",
       "<table border=\"1\" class=\"dataframe\">\n",
       "  <thead>\n",
       "    <tr style=\"text-align: right;\">\n",
       "      <th></th>\n",
       "      <th>id</th>\n",
       "      <th>gender</th>\n",
       "      <th>age</th>\n",
       "      <th>hypertension</th>\n",
       "      <th>heart_disease</th>\n",
       "      <th>ever_married</th>\n",
       "      <th>work_type</th>\n",
       "      <th>Residence_type</th>\n",
       "      <th>avg_glucose_level</th>\n",
       "      <th>bmi</th>\n",
       "      <th>smoking_status</th>\n",
       "      <th>stroke</th>\n",
       "    </tr>\n",
       "  </thead>\n",
       "  <tbody>\n",
       "    <tr>\n",
       "      <th>0</th>\n",
       "      <td>9046</td>\n",
       "      <td>Male</td>\n",
       "      <td>67.0</td>\n",
       "      <td>0</td>\n",
       "      <td>1</td>\n",
       "      <td>Yes</td>\n",
       "      <td>Private</td>\n",
       "      <td>Urban</td>\n",
       "      <td>228.69</td>\n",
       "      <td>36.6</td>\n",
       "      <td>formerly smoked</td>\n",
       "      <td>1</td>\n",
       "    </tr>\n",
       "    <tr>\n",
       "      <th>1</th>\n",
       "      <td>51676</td>\n",
       "      <td>Female</td>\n",
       "      <td>61.0</td>\n",
       "      <td>0</td>\n",
       "      <td>0</td>\n",
       "      <td>Yes</td>\n",
       "      <td>Self-employed</td>\n",
       "      <td>Rural</td>\n",
       "      <td>202.21</td>\n",
       "      <td>NaN</td>\n",
       "      <td>never smoked</td>\n",
       "      <td>1</td>\n",
       "    </tr>\n",
       "    <tr>\n",
       "      <th>2</th>\n",
       "      <td>31112</td>\n",
       "      <td>Male</td>\n",
       "      <td>80.0</td>\n",
       "      <td>0</td>\n",
       "      <td>1</td>\n",
       "      <td>Yes</td>\n",
       "      <td>Private</td>\n",
       "      <td>Rural</td>\n",
       "      <td>105.92</td>\n",
       "      <td>32.5</td>\n",
       "      <td>never smoked</td>\n",
       "      <td>1</td>\n",
       "    </tr>\n",
       "    <tr>\n",
       "      <th>3</th>\n",
       "      <td>60182</td>\n",
       "      <td>Female</td>\n",
       "      <td>49.0</td>\n",
       "      <td>0</td>\n",
       "      <td>0</td>\n",
       "      <td>Yes</td>\n",
       "      <td>Private</td>\n",
       "      <td>Urban</td>\n",
       "      <td>171.23</td>\n",
       "      <td>34.4</td>\n",
       "      <td>smokes</td>\n",
       "      <td>1</td>\n",
       "    </tr>\n",
       "    <tr>\n",
       "      <th>4</th>\n",
       "      <td>1665</td>\n",
       "      <td>Female</td>\n",
       "      <td>79.0</td>\n",
       "      <td>1</td>\n",
       "      <td>0</td>\n",
       "      <td>Yes</td>\n",
       "      <td>Self-employed</td>\n",
       "      <td>Rural</td>\n",
       "      <td>174.12</td>\n",
       "      <td>24.0</td>\n",
       "      <td>never smoked</td>\n",
       "      <td>1</td>\n",
       "    </tr>\n",
       "  </tbody>\n",
       "</table>\n",
       "</div>"
      ],
      "text/plain": [
       "      id  gender   age  hypertension  heart_disease ever_married  \\\n",
       "0   9046    Male  67.0             0              1          Yes   \n",
       "1  51676  Female  61.0             0              0          Yes   \n",
       "2  31112    Male  80.0             0              1          Yes   \n",
       "3  60182  Female  49.0             0              0          Yes   \n",
       "4   1665  Female  79.0             1              0          Yes   \n",
       "\n",
       "       work_type Residence_type  avg_glucose_level   bmi   smoking_status  \\\n",
       "0        Private          Urban             228.69  36.6  formerly smoked   \n",
       "1  Self-employed          Rural             202.21   NaN     never smoked   \n",
       "2        Private          Rural             105.92  32.5     never smoked   \n",
       "3        Private          Urban             171.23  34.4           smokes   \n",
       "4  Self-employed          Rural             174.12  24.0     never smoked   \n",
       "\n",
       "   stroke  \n",
       "0       1  \n",
       "1       1  \n",
       "2       1  \n",
       "3       1  \n",
       "4       1  "
      ]
     },
     "execution_count": 2567,
     "metadata": {},
     "output_type": "execute_result"
    }
   ],
   "source": [
    "df = pd.read_csv(\"healthcare-dataset-stroke-data.csv\")\n",
    "df.head()\n"
   ]
  },
  {
   "attachments": {},
   "cell_type": "markdown",
   "metadata": {},
   "source": [
    "# 1. Data exploration\n"
   ]
  },
  {
   "cell_type": "code",
   "execution_count": 2568,
   "metadata": {},
   "outputs": [
    {
     "name": "stdout",
     "output_type": "stream",
     "text": [
      "<class 'pandas.core.frame.DataFrame'>\n",
      "RangeIndex: 5110 entries, 0 to 5109\n",
      "Data columns (total 12 columns):\n",
      " #   Column             Non-Null Count  Dtype  \n",
      "---  ------             --------------  -----  \n",
      " 0   id                 5110 non-null   int64  \n",
      " 1   gender             5110 non-null   object \n",
      " 2   age                5110 non-null   float64\n",
      " 3   hypertension       5110 non-null   int64  \n",
      " 4   heart_disease      5110 non-null   int64  \n",
      " 5   ever_married       5110 non-null   object \n",
      " 6   work_type          5110 non-null   object \n",
      " 7   Residence_type     5110 non-null   object \n",
      " 8   avg_glucose_level  5110 non-null   float64\n",
      " 9   bmi                4909 non-null   float64\n",
      " 10  smoking_status     5110 non-null   object \n",
      " 11  stroke             5110 non-null   int64  \n",
      "dtypes: float64(3), int64(4), object(5)\n",
      "memory usage: 479.2+ KB\n"
     ]
    }
   ],
   "source": [
    "df.info()\n"
   ]
  },
  {
   "cell_type": "code",
   "execution_count": 2569,
   "metadata": {},
   "outputs": [
    {
     "data": {
      "text/html": [
       "<div>\n",
       "<style scoped>\n",
       "    .dataframe tbody tr th:only-of-type {\n",
       "        vertical-align: middle;\n",
       "    }\n",
       "\n",
       "    .dataframe tbody tr th {\n",
       "        vertical-align: top;\n",
       "    }\n",
       "\n",
       "    .dataframe thead th {\n",
       "        text-align: right;\n",
       "    }\n",
       "</style>\n",
       "<table border=\"1\" class=\"dataframe\">\n",
       "  <thead>\n",
       "    <tr style=\"text-align: right;\">\n",
       "      <th></th>\n",
       "      <th>id</th>\n",
       "      <th>age</th>\n",
       "      <th>hypertension</th>\n",
       "      <th>heart_disease</th>\n",
       "      <th>avg_glucose_level</th>\n",
       "      <th>bmi</th>\n",
       "      <th>stroke</th>\n",
       "    </tr>\n",
       "  </thead>\n",
       "  <tbody>\n",
       "    <tr>\n",
       "      <th>count</th>\n",
       "      <td>5110.000000</td>\n",
       "      <td>5110.000000</td>\n",
       "      <td>5110.000000</td>\n",
       "      <td>5110.000000</td>\n",
       "      <td>5110.000000</td>\n",
       "      <td>4909.000000</td>\n",
       "      <td>5110.000000</td>\n",
       "    </tr>\n",
       "    <tr>\n",
       "      <th>mean</th>\n",
       "      <td>36517.829354</td>\n",
       "      <td>43.226614</td>\n",
       "      <td>0.097456</td>\n",
       "      <td>0.054012</td>\n",
       "      <td>106.147677</td>\n",
       "      <td>28.893237</td>\n",
       "      <td>0.048728</td>\n",
       "    </tr>\n",
       "    <tr>\n",
       "      <th>std</th>\n",
       "      <td>21161.721625</td>\n",
       "      <td>22.612647</td>\n",
       "      <td>0.296607</td>\n",
       "      <td>0.226063</td>\n",
       "      <td>45.283560</td>\n",
       "      <td>7.854067</td>\n",
       "      <td>0.215320</td>\n",
       "    </tr>\n",
       "    <tr>\n",
       "      <th>min</th>\n",
       "      <td>67.000000</td>\n",
       "      <td>0.080000</td>\n",
       "      <td>0.000000</td>\n",
       "      <td>0.000000</td>\n",
       "      <td>55.120000</td>\n",
       "      <td>10.300000</td>\n",
       "      <td>0.000000</td>\n",
       "    </tr>\n",
       "    <tr>\n",
       "      <th>25%</th>\n",
       "      <td>17741.250000</td>\n",
       "      <td>25.000000</td>\n",
       "      <td>0.000000</td>\n",
       "      <td>0.000000</td>\n",
       "      <td>77.245000</td>\n",
       "      <td>23.500000</td>\n",
       "      <td>0.000000</td>\n",
       "    </tr>\n",
       "    <tr>\n",
       "      <th>50%</th>\n",
       "      <td>36932.000000</td>\n",
       "      <td>45.000000</td>\n",
       "      <td>0.000000</td>\n",
       "      <td>0.000000</td>\n",
       "      <td>91.885000</td>\n",
       "      <td>28.100000</td>\n",
       "      <td>0.000000</td>\n",
       "    </tr>\n",
       "    <tr>\n",
       "      <th>75%</th>\n",
       "      <td>54682.000000</td>\n",
       "      <td>61.000000</td>\n",
       "      <td>0.000000</td>\n",
       "      <td>0.000000</td>\n",
       "      <td>114.090000</td>\n",
       "      <td>33.100000</td>\n",
       "      <td>0.000000</td>\n",
       "    </tr>\n",
       "    <tr>\n",
       "      <th>max</th>\n",
       "      <td>72940.000000</td>\n",
       "      <td>82.000000</td>\n",
       "      <td>1.000000</td>\n",
       "      <td>1.000000</td>\n",
       "      <td>271.740000</td>\n",
       "      <td>97.600000</td>\n",
       "      <td>1.000000</td>\n",
       "    </tr>\n",
       "  </tbody>\n",
       "</table>\n",
       "</div>"
      ],
      "text/plain": [
       "                 id          age  hypertension  heart_disease  \\\n",
       "count   5110.000000  5110.000000   5110.000000    5110.000000   \n",
       "mean   36517.829354    43.226614      0.097456       0.054012   \n",
       "std    21161.721625    22.612647      0.296607       0.226063   \n",
       "min       67.000000     0.080000      0.000000       0.000000   \n",
       "25%    17741.250000    25.000000      0.000000       0.000000   \n",
       "50%    36932.000000    45.000000      0.000000       0.000000   \n",
       "75%    54682.000000    61.000000      0.000000       0.000000   \n",
       "max    72940.000000    82.000000      1.000000       1.000000   \n",
       "\n",
       "       avg_glucose_level          bmi       stroke  \n",
       "count        5110.000000  4909.000000  5110.000000  \n",
       "mean          106.147677    28.893237     0.048728  \n",
       "std            45.283560     7.854067     0.215320  \n",
       "min            55.120000    10.300000     0.000000  \n",
       "25%            77.245000    23.500000     0.000000  \n",
       "50%            91.885000    28.100000     0.000000  \n",
       "75%           114.090000    33.100000     0.000000  \n",
       "max           271.740000    97.600000     1.000000  "
      ]
     },
     "execution_count": 2569,
     "metadata": {},
     "output_type": "execute_result"
    }
   ],
   "source": [
    "df.describe()\n"
   ]
  },
  {
   "attachments": {},
   "cell_type": "markdown",
   "metadata": {},
   "source": [
    "## 1.1 Check for missing values\n"
   ]
  },
  {
   "cell_type": "code",
   "execution_count": 2570,
   "metadata": {},
   "outputs": [
    {
     "data": {
      "text/plain": [
       "id                     0\n",
       "gender                 0\n",
       "age                    0\n",
       "hypertension           0\n",
       "heart_disease          0\n",
       "ever_married           0\n",
       "work_type              0\n",
       "Residence_type         0\n",
       "avg_glucose_level      0\n",
       "bmi                  201\n",
       "smoking_status         0\n",
       "stroke                 0\n",
       "dtype: int64"
      ]
     },
     "execution_count": 2570,
     "metadata": {},
     "output_type": "execute_result"
    }
   ],
   "source": [
    "df.isna().sum()\n"
   ]
  },
  {
   "attachments": {},
   "cell_type": "markdown",
   "metadata": {},
   "source": [
    "## 1.2 Handle missing values: assign missing values to the mean value according to each label\n"
   ]
  },
  {
   "cell_type": "code",
   "execution_count": 2571,
   "metadata": {},
   "outputs": [
    {
     "data": {
      "text/plain": [
       "stroke\n",
       "0    28.823064\n",
       "1    30.471292\n",
       "Name: bmi, dtype: float64"
      ]
     },
     "execution_count": 2571,
     "metadata": {},
     "output_type": "execute_result"
    }
   ],
   "source": [
    "mean_bmi = df.groupby(\"stroke\")[\"bmi\"].agg(pd.Series.mean)\n",
    "mean_bmi\n"
   ]
  },
  {
   "cell_type": "code",
   "execution_count": 2572,
   "metadata": {},
   "outputs": [],
   "source": [
    "df.loc[(df.stroke == 0) & (df.bmi.isna()), \"bmi\"] = mean_bmi[0]\n",
    "df.loc[(df.stroke == 1) & (df.bmi.isna()), \"bmi\"] = mean_bmi[1]\n"
   ]
  },
  {
   "cell_type": "code",
   "execution_count": 2573,
   "metadata": {},
   "outputs": [
    {
     "data": {
      "text/plain": [
       "id                   0\n",
       "gender               0\n",
       "age                  0\n",
       "hypertension         0\n",
       "heart_disease        0\n",
       "ever_married         0\n",
       "work_type            0\n",
       "Residence_type       0\n",
       "avg_glucose_level    0\n",
       "bmi                  0\n",
       "smoking_status       0\n",
       "stroke               0\n",
       "dtype: int64"
      ]
     },
     "execution_count": 2573,
     "metadata": {},
     "output_type": "execute_result"
    }
   ],
   "source": [
    "df.isna().sum()\n"
   ]
  },
  {
   "attachments": {},
   "cell_type": "markdown",
   "metadata": {},
   "source": [
    "# 2. Data visualization\n"
   ]
  },
  {
   "attachments": {},
   "cell_type": "markdown",
   "metadata": {},
   "source": [
    "## 2.1 Plot the probability density function (PDF) of continuous numerical features (avg_glucose_level, age, bmi) according to stroke\n"
   ]
  },
  {
   "cell_type": "code",
   "execution_count": 2574,
   "metadata": {},
   "outputs": [
    {
     "data": {
      "text/plain": [
       "<matplotlib.legend.Legend at 0x115ca479b10>"
      ]
     },
     "execution_count": 2574,
     "metadata": {},
     "output_type": "execute_result"
    },
    {
     "data": {
      "image/png": "[encoded data removed]",
      "text/plain": [
       "<Figure size 3000x900 with 3 Axes>"
      ]
     },
     "metadata": {},
     "output_type": "display_data"
    }
   ],
   "source": [
    "fig = plt.figure(figsize=(50, 15), dpi=60)\n",
    "gs = GridSpec(ncols=28, nrows=12, left=0.05, right=0.5, wspace=1, hspace=0.1)\n",
    "\n",
    "ax1 = fig.add_subplot(gs[1:6, 0:8])\n",
    "ax2 = fig.add_subplot(gs[1:6, 10:18])\n",
    "ax3 = fig.add_subplot(gs[1:6, 20:])\n",
    "\n",
    "# Define colors\n",
    "stroke_color = \"#E96479\"\n",
    "not_stroke_color = \"#19A7CE\"\n",
    "\n",
    "# Average Glucose Level\n",
    "sns.kdeplot(\n",
    "    x=\"avg_glucose_level\",\n",
    "    data=df[df.stroke == 0],\n",
    "    ax=ax1,\n",
    "    shade=True,\n",
    "    color=not_stroke_color,\n",
    "    alpha=1,\n",
    "    label=\"No Stroke\",\n",
    ")\n",
    "sns.kdeplot(\n",
    "    x=\"avg_glucose_level\",\n",
    "    data=df[df.stroke == 1],\n",
    "    ax=ax1,\n",
    "    shade=True,\n",
    "    color=stroke_color,\n",
    "    alpha=0.8,\n",
    "    label=\"Stroke\",\n",
    ")\n",
    "ax1.legend(loc=\"upper left\")\n",
    "\n",
    "# Age\n",
    "sns.kdeplot(\n",
    "    x=\"age\",\n",
    "    data=df[df.stroke == 0],\n",
    "    ax=ax2,\n",
    "    shade=True,\n",
    "    color=not_stroke_color,\n",
    "    alpha=1,\n",
    "    label=\"No Stroke\",\n",
    ")\n",
    "sns.kdeplot(\n",
    "    x=\"age\",\n",
    "    data=df[df.stroke == 1],\n",
    "    ax=ax2,\n",
    "    shade=True,\n",
    "    color=stroke_color,\n",
    "    alpha=0.8,\n",
    "    label=\"Stroke\",\n",
    ")\n",
    "ax2.legend(loc=\"upper left\")\n",
    "\n",
    "# BMI\n",
    "sns.kdeplot(\n",
    "    x=\"bmi\",\n",
    "    data=df[df.stroke == 0],\n",
    "    ax=ax3,\n",
    "    shade=True,\n",
    "    color=not_stroke_color,\n",
    "    alpha=1,\n",
    "    label=\"No Stroke\",\n",
    ")\n",
    "sns.kdeplot(\n",
    "    x=\"bmi\",\n",
    "    data=df[df.stroke == 1],\n",
    "    ax=ax3,\n",
    "    shade=True,\n",
    "    color=stroke_color,\n",
    "    alpha=0.8,\n",
    "    label=\"Stroke\",\n",
    ")\n",
    "ax3.legend(loc=\"upper left\")\n"
   ]
  },
  {
   "attachments": {},
   "cell_type": "markdown",
   "metadata": {},
   "source": [
    "# 3. Data preprocessing\n"
   ]
  },
  {
   "attachments": {},
   "cell_type": "markdown",
   "metadata": {},
   "source": [
    "## 3.1 Explore the categorical features\n"
   ]
  },
  {
   "cell_type": "code",
   "execution_count": 2575,
   "metadata": {},
   "outputs": [
    {
     "name": "stdout",
     "output_type": "stream",
     "text": [
      "gender: {'Female': 2994, 'Male': 2115, 'Other': 1}\n",
      "\n",
      "work_type: {'Private': 2925, 'Self-employed': 819, 'children': 687, 'Govt_job': 657, 'Never_worked': 22}\n",
      "\n",
      "Residence_type: {'Urban': 2596, 'Rural': 2514}\n",
      "\n",
      "smoking_status: {'never smoked': 1892, 'Unknown': 1544, 'formerly smoked': 885, 'smokes': 789}\n",
      "\n"
     ]
    }
   ],
   "source": [
    "# explore categorical features (also known as nominal feature, are variables that contain label values rather than numeric values and often limited to a fixed set)\n",
    "\n",
    "for col in [\"gender\", \"work_type\", \"Residence_type\", \"smoking_status\"]:\n",
    "    print(f\"{col}: {df[col].value_counts().to_dict()}\")\n",
    "    print(\"\")\n"
   ]
  },
  {
   "attachments": {},
   "cell_type": "markdown",
   "metadata": {},
   "source": [
    "## 3.2 Data Binning\n"
   ]
  },
  {
   "cell_type": "code",
   "execution_count": 2576,
   "metadata": {},
   "outputs": [],
   "source": [
    "df[\"bmi_bin\"] = pd.qcut(df[\"bmi\"], q=4)\n",
    "df[\"avg_glucose_level_bin\"] = pd.cut(df[\"avg_glucose_level\"], bins=[\n",
    "    0, 100, 125, 150, 200, 300])\n",
    "# , labels=['Low', 'Normal', 'High', 'Very High']\n"
   ]
  },
  {
   "cell_type": "code",
   "execution_count": 2577,
   "metadata": {},
   "outputs": [
    {
     "data": {
      "text/plain": [
       "(10.299000000000001, 23.8]    1294\n",
       "(23.8, 28.4]                  1282\n",
       "(28.4, 32.8]                  1271\n",
       "(32.8, 97.6]                  1263\n",
       "Name: bmi_bin, dtype: int64"
      ]
     },
     "execution_count": 2577,
     "metadata": {},
     "output_type": "execute_result"
    }
   ],
   "source": [
    "df[\"bmi_bin\"].value_counts(sort=True)\n"
   ]
  },
  {
   "cell_type": "code",
   "execution_count": 2578,
   "metadata": {},
   "outputs": [
    {
     "data": {
      "text/plain": [
       "(0, 100]      3131\n",
       "(100, 125]     979\n",
       "(200, 300]     434\n",
       "(150, 200]     296\n",
       "(125, 150]     270\n",
       "Name: avg_glucose_level_bin, dtype: int64"
      ]
     },
     "execution_count": 2578,
     "metadata": {},
     "output_type": "execute_result"
    }
   ],
   "source": [
    "df[\"avg_glucose_level_bin\"].value_counts(sort=True)\n"
   ]
  },
  {
   "cell_type": "code",
   "execution_count": 2579,
   "metadata": {},
   "outputs": [],
   "source": [
    "df[\"avg_glucose_level_bin\"] = pd.cut(\n",
    "    df[\"avg_glucose_level\"],\n",
    "    bins=[0, 100, 125, 150, 200, 300],\n",
    "    labels=[\"Low\", \"Normal\", \"High\", \"Very High\", \"Extremely High\"],\n",
    ")\n"
   ]
  },
  {
   "cell_type": "code",
   "execution_count": 2580,
   "metadata": {},
   "outputs": [],
   "source": [
    "df[\"bmi_bin\"] = pd.qcut(\n",
    "    df[\"bmi\"],\n",
    "    q=4,\n",
    "    labels=[\"Underweight\", \"Normal\", \"Overweight\", \"Obese\"],\n",
    ")\n"
   ]
  },
  {
   "cell_type": "code",
   "execution_count": 2581,
   "metadata": {},
   "outputs": [
    {
     "data": {
      "text/html": [
       "<div>\n",
       "<style scoped>\n",
       "    .dataframe tbody tr th:only-of-type {\n",
       "        vertical-align: middle;\n",
       "    }\n",
       "\n",
       "    .dataframe tbody tr th {\n",
       "        vertical-align: top;\n",
       "    }\n",
       "\n",
       "    .dataframe thead th {\n",
       "        text-align: right;\n",
       "    }\n",
       "</style>\n",
       "<table border=\"1\" class=\"dataframe\">\n",
       "  <thead>\n",
       "    <tr style=\"text-align: right;\">\n",
       "      <th></th>\n",
       "      <th>id</th>\n",
       "      <th>gender</th>\n",
       "      <th>age</th>\n",
       "      <th>hypertension</th>\n",
       "      <th>heart_disease</th>\n",
       "      <th>ever_married</th>\n",
       "      <th>work_type</th>\n",
       "      <th>Residence_type</th>\n",
       "      <th>avg_glucose_level</th>\n",
       "      <th>bmi</th>\n",
       "      <th>smoking_status</th>\n",
       "      <th>stroke</th>\n",
       "      <th>bmi_bin</th>\n",
       "      <th>avg_glucose_level_bin</th>\n",
       "    </tr>\n",
       "  </thead>\n",
       "  <tbody>\n",
       "    <tr>\n",
       "      <th>0</th>\n",
       "      <td>9046</td>\n",
       "      <td>Male</td>\n",
       "      <td>67.0</td>\n",
       "      <td>0</td>\n",
       "      <td>1</td>\n",
       "      <td>Yes</td>\n",
       "      <td>Private</td>\n",
       "      <td>Urban</td>\n",
       "      <td>228.69</td>\n",
       "      <td>36.600000</td>\n",
       "      <td>formerly smoked</td>\n",
       "      <td>1</td>\n",
       "      <td>Obese</td>\n",
       "      <td>Extremely High</td>\n",
       "    </tr>\n",
       "    <tr>\n",
       "      <th>1</th>\n",
       "      <td>51676</td>\n",
       "      <td>Female</td>\n",
       "      <td>61.0</td>\n",
       "      <td>0</td>\n",
       "      <td>0</td>\n",
       "      <td>Yes</td>\n",
       "      <td>Self-employed</td>\n",
       "      <td>Rural</td>\n",
       "      <td>202.21</td>\n",
       "      <td>30.471292</td>\n",
       "      <td>never smoked</td>\n",
       "      <td>1</td>\n",
       "      <td>Overweight</td>\n",
       "      <td>Extremely High</td>\n",
       "    </tr>\n",
       "    <tr>\n",
       "      <th>2</th>\n",
       "      <td>31112</td>\n",
       "      <td>Male</td>\n",
       "      <td>80.0</td>\n",
       "      <td>0</td>\n",
       "      <td>1</td>\n",
       "      <td>Yes</td>\n",
       "      <td>Private</td>\n",
       "      <td>Rural</td>\n",
       "      <td>105.92</td>\n",
       "      <td>32.500000</td>\n",
       "      <td>never smoked</td>\n",
       "      <td>1</td>\n",
       "      <td>Overweight</td>\n",
       "      <td>Normal</td>\n",
       "    </tr>\n",
       "    <tr>\n",
       "      <th>3</th>\n",
       "      <td>60182</td>\n",
       "      <td>Female</td>\n",
       "      <td>49.0</td>\n",
       "      <td>0</td>\n",
       "      <td>0</td>\n",
       "      <td>Yes</td>\n",
       "      <td>Private</td>\n",
       "      <td>Urban</td>\n",
       "      <td>171.23</td>\n",
       "      <td>34.400000</td>\n",
       "      <td>smokes</td>\n",
       "      <td>1</td>\n",
       "      <td>Obese</td>\n",
       "      <td>Very High</td>\n",
       "    </tr>\n",
       "    <tr>\n",
       "      <th>4</th>\n",
       "      <td>1665</td>\n",
       "      <td>Female</td>\n",
       "      <td>79.0</td>\n",
       "      <td>1</td>\n",
       "      <td>0</td>\n",
       "      <td>Yes</td>\n",
       "      <td>Self-employed</td>\n",
       "      <td>Rural</td>\n",
       "      <td>174.12</td>\n",
       "      <td>24.000000</td>\n",
       "      <td>never smoked</td>\n",
       "      <td>1</td>\n",
       "      <td>Normal</td>\n",
       "      <td>Very High</td>\n",
       "    </tr>\n",
       "    <tr>\n",
       "      <th>...</th>\n",
       "      <td>...</td>\n",
       "      <td>...</td>\n",
       "      <td>...</td>\n",
       "      <td>...</td>\n",
       "      <td>...</td>\n",
       "      <td>...</td>\n",
       "      <td>...</td>\n",
       "      <td>...</td>\n",
       "      <td>...</td>\n",
       "      <td>...</td>\n",
       "      <td>...</td>\n",
       "      <td>...</td>\n",
       "      <td>...</td>\n",
       "      <td>...</td>\n",
       "    </tr>\n",
       "    <tr>\n",
       "      <th>5105</th>\n",
       "      <td>18234</td>\n",
       "      <td>Female</td>\n",
       "      <td>80.0</td>\n",
       "      <td>1</td>\n",
       "      <td>0</td>\n",
       "      <td>Yes</td>\n",
       "      <td>Private</td>\n",
       "      <td>Urban</td>\n",
       "      <td>83.75</td>\n",
       "      <td>28.823064</td>\n",
       "      <td>never smoked</td>\n",
       "      <td>0</td>\n",
       "      <td>Overweight</td>\n",
       "      <td>Low</td>\n",
       "    </tr>\n",
       "    <tr>\n",
       "      <th>5106</th>\n",
       "      <td>44873</td>\n",
       "      <td>Female</td>\n",
       "      <td>81.0</td>\n",
       "      <td>0</td>\n",
       "      <td>0</td>\n",
       "      <td>Yes</td>\n",
       "      <td>Self-employed</td>\n",
       "      <td>Urban</td>\n",
       "      <td>125.20</td>\n",
       "      <td>40.000000</td>\n",
       "      <td>never smoked</td>\n",
       "      <td>0</td>\n",
       "      <td>Obese</td>\n",
       "      <td>High</td>\n",
       "    </tr>\n",
       "    <tr>\n",
       "      <th>5107</th>\n",
       "      <td>19723</td>\n",
       "      <td>Female</td>\n",
       "      <td>35.0</td>\n",
       "      <td>0</td>\n",
       "      <td>0</td>\n",
       "      <td>Yes</td>\n",
       "      <td>Self-employed</td>\n",
       "      <td>Rural</td>\n",
       "      <td>82.99</td>\n",
       "      <td>30.600000</td>\n",
       "      <td>never smoked</td>\n",
       "      <td>0</td>\n",
       "      <td>Overweight</td>\n",
       "      <td>Low</td>\n",
       "    </tr>\n",
       "    <tr>\n",
       "      <th>5108</th>\n",
       "      <td>37544</td>\n",
       "      <td>Male</td>\n",
       "      <td>51.0</td>\n",
       "      <td>0</td>\n",
       "      <td>0</td>\n",
       "      <td>Yes</td>\n",
       "      <td>Private</td>\n",
       "      <td>Rural</td>\n",
       "      <td>166.29</td>\n",
       "      <td>25.600000</td>\n",
       "      <td>formerly smoked</td>\n",
       "      <td>0</td>\n",
       "      <td>Normal</td>\n",
       "      <td>Very High</td>\n",
       "    </tr>\n",
       "    <tr>\n",
       "      <th>5109</th>\n",
       "      <td>44679</td>\n",
       "      <td>Female</td>\n",
       "      <td>44.0</td>\n",
       "      <td>0</td>\n",
       "      <td>0</td>\n",
       "      <td>Yes</td>\n",
       "      <td>Govt_job</td>\n",
       "      <td>Urban</td>\n",
       "      <td>85.28</td>\n",
       "      <td>26.200000</td>\n",
       "      <td>Unknown</td>\n",
       "      <td>0</td>\n",
       "      <td>Normal</td>\n",
       "      <td>Low</td>\n",
       "    </tr>\n",
       "  </tbody>\n",
       "</table>\n",
       "<p>5110 rows × 14 columns</p>\n",
       "</div>"
      ],
      "text/plain": [
       "         id  gender   age  hypertension  heart_disease ever_married  \\\n",
       "0      9046    Male  67.0             0              1          Yes   \n",
       "1     51676  Female  61.0             0              0          Yes   \n",
       "2     31112    Male  80.0             0              1          Yes   \n",
       "3     60182  Female  49.0             0              0          Yes   \n",
       "4      1665  Female  79.0             1              0          Yes   \n",
       "...     ...     ...   ...           ...            ...          ...   \n",
       "5105  18234  Female  80.0             1              0          Yes   \n",
       "5106  44873  Female  81.0             0              0          Yes   \n",
       "5107  19723  Female  35.0             0              0          Yes   \n",
       "5108  37544    Male  51.0             0              0          Yes   \n",
       "5109  44679  Female  44.0             0              0          Yes   \n",
       "\n",
       "          work_type Residence_type  avg_glucose_level        bmi  \\\n",
       "0           Private          Urban             228.69  36.600000   \n",
       "1     Self-employed          Rural             202.21  30.471292   \n",
       "2           Private          Rural             105.92  32.500000   \n",
       "3           Private          Urban             171.23  34.400000   \n",
       "4     Self-employed          Rural             174.12  24.000000   \n",
       "...             ...            ...                ...        ...   \n",
       "5105        Private          Urban              83.75  28.823064   \n",
       "5106  Self-employed          Urban             125.20  40.000000   \n",
       "5107  Self-employed          Rural              82.99  30.600000   \n",
       "5108        Private          Rural             166.29  25.600000   \n",
       "5109       Govt_job          Urban              85.28  26.200000   \n",
       "\n",
       "       smoking_status  stroke     bmi_bin avg_glucose_level_bin  \n",
       "0     formerly smoked       1       Obese        Extremely High  \n",
       "1        never smoked       1  Overweight        Extremely High  \n",
       "2        never smoked       1  Overweight                Normal  \n",
       "3              smokes       1       Obese             Very High  \n",
       "4        never smoked       1      Normal             Very High  \n",
       "...               ...     ...         ...                   ...  \n",
       "5105     never smoked       0  Overweight                   Low  \n",
       "5106     never smoked       0       Obese                  High  \n",
       "5107     never smoked       0  Overweight                   Low  \n",
       "5108  formerly smoked       0      Normal             Very High  \n",
       "5109          Unknown       0      Normal                   Low  \n",
       "\n",
       "[5110 rows x 14 columns]"
      ]
     },
     "execution_count": 2581,
     "metadata": {},
     "output_type": "execute_result"
    }
   ],
   "source": [
    "df\n"
   ]
  },
  {
   "attachments": {},
   "cell_type": "markdown",
   "metadata": {},
   "source": [
    "## 3.2 Extract the row with gender value = 'Other' (to put aside it for training set)\n"
   ]
  },
  {
   "cell_type": "code",
   "execution_count": 2582,
   "metadata": {},
   "outputs": [
    {
     "data": {
      "text/html": [
       "<div>\n",
       "<style scoped>\n",
       "    .dataframe tbody tr th:only-of-type {\n",
       "        vertical-align: middle;\n",
       "    }\n",
       "\n",
       "    .dataframe tbody tr th {\n",
       "        vertical-align: top;\n",
       "    }\n",
       "\n",
       "    .dataframe thead th {\n",
       "        text-align: right;\n",
       "    }\n",
       "</style>\n",
       "<table border=\"1\" class=\"dataframe\">\n",
       "  <thead>\n",
       "    <tr style=\"text-align: right;\">\n",
       "      <th></th>\n",
       "      <th>id</th>\n",
       "      <th>gender</th>\n",
       "      <th>age</th>\n",
       "      <th>hypertension</th>\n",
       "      <th>heart_disease</th>\n",
       "      <th>ever_married</th>\n",
       "      <th>work_type</th>\n",
       "      <th>Residence_type</th>\n",
       "      <th>avg_glucose_level</th>\n",
       "      <th>bmi</th>\n",
       "      <th>smoking_status</th>\n",
       "      <th>stroke</th>\n",
       "      <th>bmi_bin</th>\n",
       "      <th>avg_glucose_level_bin</th>\n",
       "    </tr>\n",
       "  </thead>\n",
       "  <tbody>\n",
       "    <tr>\n",
       "      <th>3116</th>\n",
       "      <td>56156</td>\n",
       "      <td>Other</td>\n",
       "      <td>26.0</td>\n",
       "      <td>0</td>\n",
       "      <td>0</td>\n",
       "      <td>No</td>\n",
       "      <td>Private</td>\n",
       "      <td>Rural</td>\n",
       "      <td>143.33</td>\n",
       "      <td>22.4</td>\n",
       "      <td>formerly smoked</td>\n",
       "      <td>0</td>\n",
       "      <td>Underweight</td>\n",
       "      <td>High</td>\n",
       "    </tr>\n",
       "  </tbody>\n",
       "</table>\n",
       "</div>"
      ],
      "text/plain": [
       "         id gender   age  hypertension  heart_disease ever_married work_type  \\\n",
       "3116  56156  Other  26.0             0              0           No   Private   \n",
       "\n",
       "     Residence_type  avg_glucose_level   bmi   smoking_status  stroke  \\\n",
       "3116          Rural             143.33  22.4  formerly smoked       0   \n",
       "\n",
       "          bmi_bin avg_glucose_level_bin  \n",
       "3116  Underweight                  High  "
      ]
     },
     "execution_count": 2582,
     "metadata": {},
     "output_type": "execute_result"
    }
   ],
   "source": [
    "temp = df[df.gender == \"Other\"]\n",
    "temp\n"
   ]
  },
  {
   "cell_type": "code",
   "execution_count": 2583,
   "metadata": {},
   "outputs": [],
   "source": [
    "df = df[df.gender != \"Other\"]\n"
   ]
  },
  {
   "cell_type": "code",
   "execution_count": 2584,
   "metadata": {},
   "outputs": [],
   "source": [
    "X = df.drop([\"id\", \"avg_glucose_level\", \"bmi\", \"stroke\"], axis=1)\n",
    "y = df[\"stroke\"]\n"
   ]
  },
  {
   "cell_type": "code",
   "execution_count": 2585,
   "metadata": {},
   "outputs": [],
   "source": [
    "temp_X = temp.drop([\"id\", \"avg_glucose_level\", \"bmi\", \"stroke\"], axis=1)\n",
    "temp_y = temp[\"stroke\"]\n"
   ]
  },
  {
   "cell_type": "code",
   "execution_count": 2586,
   "metadata": {},
   "outputs": [
    {
     "data": {
      "text/plain": [
       "(5109, 10)"
      ]
     },
     "execution_count": 2586,
     "metadata": {},
     "output_type": "execute_result"
    }
   ],
   "source": [
    "X.shape\n"
   ]
  },
  {
   "attachments": {},
   "cell_type": "markdown",
   "metadata": {},
   "source": [
    "## 3.3 Split the data into training set and test set (with stratification)\n"
   ]
  },
  {
   "cell_type": "code",
   "execution_count": 2587,
   "metadata": {},
   "outputs": [],
   "source": [
    "# split data into train and test set\n",
    "X_train, X_test, y_train, y_test = train_test_split(\n",
    "    X, y, test_size=0.25, shuffle=True, stratify=y, random_state=42)\n"
   ]
  },
  {
   "cell_type": "code",
   "execution_count": 2588,
   "metadata": {},
   "outputs": [
    {
     "data": {
      "text/plain": [
       "((3831, 10), (1278, 10), (3831,), (1278,))"
      ]
     },
     "execution_count": 2588,
     "metadata": {},
     "output_type": "execute_result"
    }
   ],
   "source": [
    "X_train.shape, X_test.shape, y_train.shape, y_test.shape\n"
   ]
  },
  {
   "attachments": {},
   "cell_type": "markdown",
   "metadata": {},
   "source": [
    "## 3.4 Create an instance of column transformer to encode the categorical features\n",
    "\n",
    "### One-hot encoding: for categorical data\n",
    "\n",
    "### Ordinal encoding: for ordinal data\n"
   ]
  },
  {
   "cell_type": "code",
   "execution_count": 2589,
   "metadata": {},
   "outputs": [],
   "source": [
    "# create column transformer\n",
    "ct = make_column_transformer(\n",
    "    (OneHotEncoder(), [\"gender\"]),\n",
    "    (OneHotEncoder(), [\"ever_married\"]),\n",
    "    (OneHotEncoder(), [\"work_type\"]),\n",
    "    (OneHotEncoder(), [\"Residence_type\"]),\n",
    "    (\n",
    "        OrdinalEncoder(\n",
    "            categories=[[\"never smoked\", \"Unknown\", \"formerly smoked\", \"smokes\"]]),\n",
    "        [\"smoking_status\"],\n",
    "    ),\n",
    "    (\n",
    "        OrdinalEncoder(\n",
    "            categories=[[\"Low\", \"Normal\", \"High\", \"Very High\", \"Extremely High\"]]),\n",
    "        [\"avg_glucose_level_bin\"],\n",
    "    ),\n",
    "    (\n",
    "        OrdinalEncoder(\n",
    "            categories=[[\"Underweight\", \"Normal\", \"Overweight\", \"Obese\"]]),\n",
    "        [\"bmi_bin\"],\n",
    "    ),\n",
    "    remainder=\"passthrough\",\n",
    ")\n"
   ]
  },
  {
   "attachments": {},
   "cell_type": "markdown",
   "metadata": {},
   "source": [
    "## 3.5 Put the row with gender value = 'Other' back to the training set\n"
   ]
  },
  {
   "cell_type": "code",
   "execution_count": 2590,
   "metadata": {},
   "outputs": [],
   "source": [
    "X_train = pd.concat([X_train, temp_X], axis=0)\n"
   ]
  },
  {
   "cell_type": "code",
   "execution_count": 2591,
   "metadata": {},
   "outputs": [],
   "source": [
    "y_train = pd.concat([y_train, temp_y], axis=0)\n"
   ]
  },
  {
   "cell_type": "code",
   "execution_count": 2592,
   "metadata": {},
   "outputs": [
    {
     "data": {
      "text/plain": [
       "((3832, 10), (3832,))"
      ]
     },
     "execution_count": 2592,
     "metadata": {},
     "output_type": "execute_result"
    }
   ],
   "source": [
    "X_train.shape, y_train.shape\n"
   ]
  },
  {
   "attachments": {},
   "cell_type": "markdown",
   "metadata": {},
   "source": [
    "## 3.5 Fit transform the column transformer to the training set and transform the test set\n"
   ]
  },
  {
   "cell_type": "code",
   "execution_count": 2593,
   "metadata": {},
   "outputs": [],
   "source": [
    "X_train = ct.fit_transform(X_train)\n",
    "X_test = ct.transform(X_test)\n"
   ]
  },
  {
   "cell_type": "code",
   "execution_count": 2594,
   "metadata": {},
   "outputs": [
    {
     "data": {
      "text/plain": [
       "((3832, 18), (3832,))"
      ]
     },
     "execution_count": 2594,
     "metadata": {},
     "output_type": "execute_result"
    }
   ],
   "source": [
    "X_train.shape, y_train.shape\n"
   ]
  },
  {
   "cell_type": "code",
   "execution_count": 2595,
   "metadata": {},
   "outputs": [
    {
     "data": {
      "text/plain": [
       "array(['onehotencoder-1__gender_Female', 'onehotencoder-1__gender_Male',\n",
       "       'onehotencoder-1__gender_Other',\n",
       "       'onehotencoder-2__ever_married_No',\n",
       "       'onehotencoder-2__ever_married_Yes',\n",
       "       'onehotencoder-3__work_type_Govt_job',\n",
       "       'onehotencoder-3__work_type_Never_worked',\n",
       "       'onehotencoder-3__work_type_Private',\n",
       "       'onehotencoder-3__work_type_Self-employed',\n",
       "       'onehotencoder-3__work_type_children',\n",
       "       'onehotencoder-4__Residence_type_Rural',\n",
       "       'onehotencoder-4__Residence_type_Urban',\n",
       "       'ordinalencoder-1__smoking_status',\n",
       "       'ordinalencoder-2__avg_glucose_level_bin',\n",
       "       'ordinalencoder-3__bmi_bin', 'remainder__age',\n",
       "       'remainder__hypertension', 'remainder__heart_disease'],\n",
       "      dtype=object)"
      ]
     },
     "execution_count": 2595,
     "metadata": {},
     "output_type": "execute_result"
    }
   ],
   "source": [
    "transformed_cols = ct.get_feature_names_out()\n",
    "transformed_cols\n"
   ]
  },
  {
   "attachments": {},
   "cell_type": "markdown",
   "metadata": {},
   "source": [
    "## 3.6 Data scaling\n"
   ]
  },
  {
   "cell_type": "code",
   "execution_count": 2596,
   "metadata": {},
   "outputs": [
    {
     "data": {
      "text/plain": [
       "array([[ 1.,  0.,  0., ..., 72.,  1.,  1.],\n",
       "       [ 0.,  1.,  0., ..., 18.,  0.,  0.],\n",
       "       [ 1.,  0.,  0., ..., 13.,  0.,  0.],\n",
       "       ...,\n",
       "       [ 0.,  1.,  0., ..., 31.,  0.,  0.],\n",
       "       [ 1.,  0.,  0., ..., 46.,  0.,  0.],\n",
       "       [ 0.,  0.,  1., ..., 26.,  0.,  0.]])"
      ]
     },
     "execution_count": 2596,
     "metadata": {},
     "output_type": "execute_result"
    }
   ],
   "source": [
    "X_train\n"
   ]
  },
  {
   "cell_type": "code",
   "execution_count": 2597,
   "metadata": {},
   "outputs": [],
   "source": [
    "scaler = MinMaxScaler()\n",
    "X_train = scaler.fit_transform(X_train)\n",
    "X_test = scaler.transform(X_test)\n"
   ]
  },
  {
   "cell_type": "code",
   "execution_count": 2598,
   "metadata": {},
   "outputs": [
    {
     "data": {
      "text/plain": [
       "array([[1.        , 0.        , 0.        , ..., 0.87781036, 1.        ,\n",
       "        1.        ],\n",
       "       [0.        , 1.        , 0.        , ..., 0.21798631, 0.        ,\n",
       "        0.        ],\n",
       "       [1.        , 0.        , 0.        , ..., 0.1568915 , 0.        ,\n",
       "        0.        ],\n",
       "       ...,\n",
       "       [0.        , 1.        , 0.        , ..., 0.37683284, 0.        ,\n",
       "        0.        ],\n",
       "       [1.        , 0.        , 0.        , ..., 0.5601173 , 0.        ,\n",
       "        0.        ],\n",
       "       [0.        , 0.        , 1.        , ..., 0.31573803, 0.        ,\n",
       "        0.        ]])"
      ]
     },
     "execution_count": 2598,
     "metadata": {},
     "output_type": "execute_result"
    }
   ],
   "source": [
    "X_train\n"
   ]
  },
  {
   "attachments": {},
   "cell_type": "markdown",
   "metadata": {},
   "source": [
    "# 4. Model training\n"
   ]
  },
  {
   "attachments": {},
   "cell_type": "markdown",
   "metadata": {},
   "source": [
    "## 4.1 Train model with no optimization\n"
   ]
  },
  {
   "attachments": {},
   "cell_type": "markdown",
   "metadata": {},
   "source": [
    "### 4.1.1 Train SVM model\n"
   ]
  },
  {
   "cell_type": "code",
   "execution_count": 2599,
   "metadata": {},
   "outputs": [
    {
     "name": "stdout",
     "output_type": "stream",
     "text": [
      "Accuracy: 0.9514866979655712\n",
      "Recall: 0.0\n",
      "Precision: 0.0\n",
      "F1-score: 0.0\n"
     ]
    }
   ],
   "source": [
    "svc_model = SVC()\n",
    "svc_model.fit(X_train, y_train)\n",
    "y_pred_svc = svc_model.predict(X_test)\n",
    "print(f\"Accuracy: {accuracy_score(y_test, y_pred_svc)}\")\n",
    "print(f\"Recall: {recall_score(y_test, y_pred_svc)}\")\n",
    "print(f\"Precision: {precision_score(y_test, y_pred_svc)}\")\n",
    "print(f\"F1-score: {f1_score(y_test, y_pred_svc)}\")\n"
   ]
  },
  {
   "cell_type": "code",
   "execution_count": 2600,
   "metadata": {},
   "outputs": [],
   "source": [
    "def plotConFusionMatrix(y_test, y_pred):\n",
    "    cmd = ConfusionMatrixDisplay.from_predictions(y_test, y_pred, cmap=\"Blues\")\n"
   ]
  },
  {
   "cell_type": "code",
   "execution_count": 2601,
   "metadata": {},
   "outputs": [
    {
     "data": {
      "image/png": "[encoded data removed]",
      "text/plain": [
       "<Figure size 640x480 with 2 Axes>"
      ]
     },
     "metadata": {},
     "output_type": "display_data"
    }
   ],
   "source": [
    "plotConFusionMatrix(y_test, y_pred_svc)\n"
   ]
  },
  {
   "attachments": {},
   "cell_type": "markdown",
   "metadata": {},
   "source": [
    "<div style=\"text-align: center;\"> \n",
    "  <img src=\"https://static.packt-cdn.com/products/9781838555078/graphics/C13314_06_05.jpg\" alt=\"Confusion Matrix\">\n",
    "</div>\n",
    "\n",
    "<h4>TP: the number of patients who have stroke and the model predicts correctly that they have stroke </h4>\n",
    "<h4>TN: the number of patients who do not have stroke and the model predicts correctly that they do not have stroke</h4>\n",
    "<h4>FP: the number of patients who do not have stroke but the model predicts incorrectly that they have stroke</h4>\n",
    "<h4>FN: the number of patients who have stroke but the model predicts incorrectly that they do not have stroke</h4>\n",
    "<hr>\n",
    "<h4> The goal is to optimize the recall score, where recall is defined as:</h4>\n",
    "\n",
    "$$Recall = \\frac{TP}{TP + FN}$$\n",
    "\n",
    "#### It also means that we will minimize the number of FN (False Negative) because it is more dangerous to predict that a patient does not have stroke while he/she actually has stroke.\n"
   ]
  },
  {
   "attachments": {},
   "cell_type": "markdown",
   "metadata": {},
   "source": [
    "### 4.1.2 Train decision tree model\n"
   ]
  },
  {
   "cell_type": "code",
   "execution_count": 2602,
   "metadata": {},
   "outputs": [
    {
     "name": "stdout",
     "output_type": "stream",
     "text": [
      "Accuracy: 0.9115805946791862\n",
      "Recall: 0.0967741935483871\n",
      "Precision: 0.09523809523809523\n",
      "F1-score: 0.096\n"
     ]
    }
   ],
   "source": [
    "dt_model = DecisionTreeClassifier()\n",
    "dt_model = dt_model.fit(X_train, y_train)\n",
    "y_pred_dt = dt_model.predict(X_test)\n",
    "print(f'Accuracy: {accuracy_score(y_test, y_pred_dt)}')\n",
    "print(f'Recall: {recall_score(y_test, y_pred_dt)}')\n",
    "print(f'Precision: {precision_score(y_test, y_pred_dt)}')\n",
    "print(f'F1-score: {f1_score(y_test, y_pred_dt)}')\n"
   ]
  },
  {
   "cell_type": "code",
   "execution_count": 2603,
   "metadata": {},
   "outputs": [
    {
     "data": {
      "image/png": "[encoded data removed]",
      "text/plain": [
       "<Figure size 640x480 with 2 Axes>"
      ]
     },
     "metadata": {},
     "output_type": "display_data"
    }
   ],
   "source": [
    "plotConFusionMatrix(y_test, y_pred_dt)\n"
   ]
  },
  {
   "attachments": {},
   "cell_type": "markdown",
   "metadata": {},
   "source": [
    "## 4.2 Train model with oversampling (SMOTE)\n"
   ]
  },
  {
   "cell_type": "code",
   "execution_count": 2604,
   "metadata": {},
   "outputs": [
    {
     "data": {
      "text/plain": [
       "<Axes: xlabel='stroke', ylabel='count'>"
      ]
     },
     "execution_count": 2604,
     "metadata": {},
     "output_type": "execute_result"
    },
    {
     "data": {
      "image/png": "[encoded data removed]",
      "text/plain": [
       "<Figure size 640x480 with 1 Axes>"
      ]
     },
     "metadata": {},
     "output_type": "display_data"
    }
   ],
   "source": [
    "sns.countplot(x=y_train)\n"
   ]
  },
  {
   "attachments": {},
   "cell_type": "markdown",
   "metadata": {},
   "source": [
    "### It can be seen that the data is not balanced, therefore the model will be biased towards the majority class. Although the accuracy is high, the model is not good because the recall score is low (0%) (many stroke patients are predicted as non-stroke patients), which is very dangerous in the medical field.\n",
    "\n",
    "### To solve this problem, we will use SMOTE (Synthetic Minority Over-sampling Technique) to balance the data.\n"
   ]
  },
  {
   "cell_type": "code",
   "execution_count": 2605,
   "metadata": {},
   "outputs": [],
   "source": [
    "oversample = SMOTE(k_neighbors=4, random_state=42)\n",
    "X_train, y_train = oversample.fit_resample(X_train, y_train)\n"
   ]
  },
  {
   "cell_type": "code",
   "execution_count": 2606,
   "metadata": {},
   "outputs": [
    {
     "data": {
      "text/plain": [
       "<Axes: xlabel='stroke', ylabel='count'>"
      ]
     },
     "execution_count": 2606,
     "metadata": {},
     "output_type": "execute_result"
    },
    {
     "data": {
      "image/png": "[encoded data removed]",
      "text/plain": [
       "<Figure size 640x480 with 1 Axes>"
      ]
     },
     "metadata": {},
     "output_type": "display_data"
    }
   ],
   "source": [
    "sns.countplot(x=y_train)\n"
   ]
  },
  {
   "attachments": {},
   "cell_type": "markdown",
   "metadata": {},
   "source": [
    "### 4.2.1 Train SVM model with SMOTE\n"
   ]
  },
  {
   "cell_type": "code",
   "execution_count": 2607,
   "metadata": {},
   "outputs": [
    {
     "name": "stdout",
     "output_type": "stream",
     "text": [
      "Accuracy: 0.7785602503912363\n",
      "Recall: 0.5806451612903226\n",
      "Precision: 0.12286689419795221\n",
      "F1-score: 0.2028169014084507\n"
     ]
    }
   ],
   "source": [
    "svc_model = SVC()\n",
    "svc_model.fit(X_train, y_train)\n",
    "y_pred_svc = svc_model.predict(X_test)\n",
    "print(f\"Accuracy: {accuracy_score(y_test, y_pred_svc)}\")\n",
    "print(f\"Recall: {recall_score(y_test, y_pred_svc)}\")\n",
    "print(f\"Precision: {precision_score(y_test, y_pred_svc)}\")\n",
    "print(f\"F1-score: {f1_score(y_test, y_pred_svc)}\")\n"
   ]
  },
  {
   "attachments": {},
   "cell_type": "markdown",
   "metadata": {},
   "source": [
    "### 4.2.2 Train Decision Tree model with SMOTE\n"
   ]
  },
  {
   "cell_type": "code",
   "execution_count": 2608,
   "metadata": {},
   "outputs": [
    {
     "name": "stdout",
     "output_type": "stream",
     "text": [
      "Accuracy: 0.8912363067292645\n",
      "Recall: 0.12903225806451613\n",
      "Precision: 0.08602150537634409\n",
      "F1-score: 0.1032258064516129\n"
     ]
    }
   ],
   "source": [
    "dt_model = DecisionTreeClassifier(random_state=42)\n",
    "dt_model.fit(X_train, y_train)\n",
    "y_pred_dt = dt_model.predict(X_test)\n",
    "print(f\"Accuracy: {accuracy_score(y_test, y_pred_dt)}\")\n",
    "print(f\"Recall: {recall_score(y_test, y_pred_dt)}\")\n",
    "print(f\"Precision: {precision_score(y_test, y_pred_dt)}\")\n",
    "print(f\"F1-score: {f1_score(y_test, y_pred_dt)}\")\n"
   ]
  },
  {
   "attachments": {},
   "cell_type": "markdown",
   "metadata": {},
   "source": [
    "## 4.3 Train model with feature selection (to reduce the number of dimensions)\n"
   ]
  },
  {
   "cell_type": "code",
   "execution_count": 2609,
   "metadata": {},
   "outputs": [],
   "source": [
    "# change numpy array to dataframe\n",
    "X_train = pd.DataFrame(X_train)\n"
   ]
  },
  {
   "cell_type": "code",
   "execution_count": 2610,
   "metadata": {},
   "outputs": [
    {
     "data": {
      "text/plain": [
       "<Axes: >"
      ]
     },
     "execution_count": 2610,
     "metadata": {},
     "output_type": "execute_result"
    },
    {
     "data": {
      "image/png": "[encoded data removed]",
      "text/plain": [
       "<Figure size 640x480 with 1 Axes>"
      ]
     },
     "metadata": {},
     "output_type": "display_data"
    }
   ],
   "source": [
    "# The higher the chi-square value, the more important the feature is\n",
    "chi_score = chi2(X_train, y_train)\n",
    "chi_values = pd.Series(chi_score[0], index=X_train.columns)\n",
    "chi_values.sort_values(ascending=False, inplace=True)\n",
    "chi_values.plot.bar()\n"
   ]
  },
  {
   "cell_type": "code",
   "execution_count": 2611,
   "metadata": {},
   "outputs": [
    {
     "data": {
      "text/plain": [
       "('onehotencoder-2__ever_married_No',\n",
       " 'onehotencoder-3__work_type_children',\n",
       " 'remainder__age',\n",
       " 'remainder__heart_disease',\n",
       " 'ordinalencoder-2__avg_glucose_level_bin',\n",
       " 'remainder__hypertension',\n",
       " 'onehotencoder-2__ever_married_Yes',\n",
       " 'onehotencoder-3__work_type_Self-employed',\n",
       " 'ordinalencoder-3__bmi_bin')"
      ]
     },
     "execution_count": 2611,
     "metadata": {},
     "output_type": "execute_result"
    }
   ],
   "source": [
    "# important features\n",
    "transformed_cols[3], transformed_cols[9], transformed_cols[15], transformed_cols[17], transformed_cols[\n",
    "    13], transformed_cols[16], transformed_cols[4], transformed_cols[8], transformed_cols[14]\n"
   ]
  },
  {
   "cell_type": "code",
   "execution_count": 2612,
   "metadata": {},
   "outputs": [
    {
     "data": {
      "text/plain": [
       "<Axes: >"
      ]
     },
     "execution_count": 2612,
     "metadata": {},
     "output_type": "execute_result"
    },
    {
     "data": {
      "image/png": "[encoded data removed]",
      "text/plain": [
       "<Figure size 640x480 with 1 Axes>"
      ]
     },
     "metadata": {},
     "output_type": "display_data"
    }
   ],
   "source": [
    "# The higher the p-value, the less important the feature is\n",
    "p_values = pd.Series(chi_score[1], index=X_train.columns)\n",
    "p_values.sort_values(ascending=False, inplace=True)\n",
    "p_values.plot.bar()\n"
   ]
  },
  {
   "cell_type": "code",
   "execution_count": 2613,
   "metadata": {},
   "outputs": [
    {
     "data": {
      "text/plain": [
       "('onehotencoder-3__work_type_Govt_job',\n",
       " 'onehotencoder-1__gender_Female',\n",
       " 'onehotencoder-4__Residence_type_Urban',\n",
       " 'onehotencoder-4__Residence_type_Rural',\n",
       " 'onehotencoder-1__gender_Other',\n",
       " 'onehotencoder-3__work_type_Private',\n",
       " 'onehotencoder-1__gender_Male')"
      ]
     },
     "execution_count": 2613,
     "metadata": {},
     "output_type": "execute_result"
    }
   ],
   "source": [
    "# not important features\n",
    "transformed_cols[5], transformed_cols[0], transformed_cols[11], transformed_cols[\n",
    "    10], transformed_cols[2], transformed_cols[7], transformed_cols[1]\n"
   ]
  },
  {
   "cell_type": "code",
   "execution_count": 2614,
   "metadata": {},
   "outputs": [],
   "source": [
    "# select the 8 most important features\n",
    "k_best = SelectKBest(chi2, k=8)\n",
    "X_train = k_best.fit_transform(X_train, y_train)\n",
    "X_test = k_best.transform(X_test)\n"
   ]
  },
  {
   "attachments": {},
   "cell_type": "markdown",
   "metadata": {},
   "source": [
    "### 4.3.1 Training SVM model with feature selection, but no hyperparameter tuning\n"
   ]
  },
  {
   "cell_type": "code",
   "execution_count": 2615,
   "metadata": {},
   "outputs": [
    {
     "name": "stdout",
     "output_type": "stream",
     "text": [
      "Accuracy: 0.7206572769953051\n",
      "Recall: 0.6935483870967742\n",
      "Precision: 0.11286089238845144\n",
      "F1-score: 0.19413092550790068\n"
     ]
    }
   ],
   "source": [
    "svc_model = SVC()\n",
    "svc_model.fit(X_train, y_train)\n",
    "y_pred_svc = svc_model.predict(X_test)\n",
    "print(f\"Accuracy: {accuracy_score(y_test, y_pred_svc)}\")\n",
    "print(f\"Recall: {recall_score(y_test, y_pred_svc)}\")\n",
    "print(f\"Precision: {precision_score(y_test, y_pred_svc)}\")\n",
    "print(f\"F1-score: {f1_score(y_test, y_pred_svc)}\")\n"
   ]
  },
  {
   "cell_type": "code",
   "execution_count": 2616,
   "metadata": {},
   "outputs": [
    {
     "data": {
      "image/png": "[encoded data removed]",
      "text/plain": [
       "<Figure size 640x480 with 2 Axes>"
      ]
     },
     "metadata": {},
     "output_type": "display_data"
    }
   ],
   "source": [
    "plotConFusionMatrix(y_test, y_pred_svc)\n"
   ]
  },
  {
   "attachments": {},
   "cell_type": "markdown",
   "metadata": {},
   "source": [
    "### 4.3.2 Training Decision Tree model with feature selection, but no hyperparameter tuning\n"
   ]
  },
  {
   "cell_type": "code",
   "execution_count": 2617,
   "metadata": {},
   "outputs": [
    {
     "name": "stdout",
     "output_type": "stream",
     "text": [
      "Accuracy: 0.9280125195618153\n",
      "Recall: 0.1935483870967742\n",
      "Precision: 0.2222222222222222\n",
      "F1-score: 0.20689655172413793\n"
     ]
    }
   ],
   "source": [
    "dt_model = DecisionTreeClassifier(random_state=42)\n",
    "dt_model.fit(X_train, y_train)\n",
    "y_pred_dt = dt_model.predict(X_test)\n",
    "print(f\"Accuracy: {accuracy_score(y_test, y_pred_dt)}\")\n",
    "print(f\"Recall: {recall_score(y_test, y_pred_dt)}\")\n",
    "print(f\"Precision: {precision_score(y_test, y_pred_dt)}\")\n",
    "print(f\"F1-score: {f1_score(y_test, y_pred_dt)}\")\n"
   ]
  },
  {
   "cell_type": "code",
   "execution_count": 2618,
   "metadata": {},
   "outputs": [
    {
     "data": {
      "image/png": "[encoded data removed]",
      "text/plain": [
       "<Figure size 640x480 with 2 Axes>"
      ]
     },
     "metadata": {},
     "output_type": "display_data"
    }
   ],
   "source": [
    "plotConFusionMatrix(y_test, y_pred_dt)\n"
   ]
  },
  {
   "attachments": {},
   "cell_type": "markdown",
   "metadata": {},
   "source": [
    "## 4.5 Train model with hyperparameter tuning using GridSearchCV\n"
   ]
  },
  {
   "attachments": {},
   "cell_type": "markdown",
   "metadata": {},
   "source": [
    "### 4.5.1 Train Decision tree model with oversampled data, feature selection, and hyperparameter tuning\n"
   ]
  },
  {
   "cell_type": "code",
   "execution_count": 2627,
   "metadata": {},
   "outputs": [
    {
     "name": "stdout",
     "output_type": "stream",
     "text": [
      "Best max_depth: 3\n",
      "Best criterion: gini\n",
      "Best min_samples_split: 2\n"
     ]
    }
   ],
   "source": [
    "# Creating a pca object\n",
    "pca = decomposition.PCA()\n",
    "\n",
    "# Creating a DecisionTreeClassifier\n",
    "dec_tree = tree.DecisionTreeClassifier()\n",
    "\n",
    "pipe = Pipeline(steps=[('pca', pca), ('dec_tree', dec_tree)])\n",
    "\n",
    "# Creating lists of parameter for Decision Tree Classifier\n",
    "criterion = ['gini', 'entropy']\n",
    "max_depth = np.arange(2, 10)\n",
    "min_samples_split_values = np.arange(2, 10)\n",
    "\n",
    "# Creating a dictionary of all the parameter options\n",
    "parameters = dict(dec_tree__criterion=criterion,\n",
    "                  dec_tree__max_depth=max_depth,\n",
    "                  dec_tree__min_samples_split=min_samples_split_values)\n",
    "\n",
    "# Creating a grid search object with the scoring metric\n",
    "clf_GS = GridSearchCV(pipe, parameters, scoring='recall', cv=5)\n",
    "\n",
    "# Fitting the grid search\n",
    "clf_GS.fit(X_train, y_train)\n",
    "\n",
    "# Viewing The Best Parameters\n",
    "print('Best max_depth:', clf_GS.best_estimator_.get_params()\n",
    "      ['dec_tree__max_depth'])\n",
    "print('Best criterion:', clf_GS.best_estimator_.get_params()\n",
    "      ['dec_tree__criterion'])\n",
    "print('Best min_samples_split:', clf_GS.best_estimator_.get_params()\n",
    "      ['dec_tree__min_samples_split'])\n"
   ]
  },
  {
   "cell_type": "code",
   "execution_count": 2628,
   "metadata": {},
   "outputs": [
    {
     "name": "stdout",
     "output_type": "stream",
     "text": [
      "Accuracy: 0.7550860719874805\n",
      "Recall: 0.7741935483870968\n",
      "Precision: 0.138328530259366\n",
      "F1-score: 0.234718826405868\n"
     ]
    }
   ],
   "source": [
    "dt_model = DecisionTreeClassifier(\n",
    "    criterion=clf_GS.best_estimator_.get_params()['dec_tree__criterion'],\n",
    "    max_depth=clf_GS.best_estimator_.get_params(\n",
    "    )['dec_tree__max_depth'], min_samples_split=clf_GS.best_estimator_.get_params()['dec_tree__min_samples_split'])\n",
    "dt_model = dt_model.fit(X_train, y_train)\n",
    "y_pred_dt = dt_model.predict(X_test)\n",
    "print(f'Accuracy: {accuracy_score(y_test, y_pred_dt)}')\n",
    "print(f'Recall: {recall_score(y_test, y_pred_dt)}')\n",
    "print(f'Precision: {precision_score(y_test, y_pred_dt)}')\n",
    "print(f'F1-score: {f1_score(y_test, y_pred_dt)}')\n"
   ]
  },
  {
   "cell_type": "code",
   "execution_count": 2629,
   "metadata": {},
   "outputs": [
    {
     "data": {
      "image/png": "[encoded data removed]",
      "text/plain": [
       "<Figure size 640x480 with 2 Axes>"
      ]
     },
     "metadata": {},
     "output_type": "display_data"
    }
   ],
   "source": [
    "# confusion matrix\n",
    "plotConFusionMatrix(y_test, y_pred_dt)\n"
   ]
  },
  {
   "attachments": {},
   "cell_type": "markdown",
   "metadata": {},
   "source": [
    "### Visualize the Decision Tree model\n"
   ]
  },
  {
   "cell_type": "code",
   "execution_count": 2630,
   "metadata": {},
   "outputs": [
    {
     "name": "stdout",
     "output_type": "stream",
     "text": [
      "|--- feature_5 <= 0.63\n",
      "|   |--- feature_5 <= 0.54\n",
      "|   |   |--- feature_7 <= 0.00\n",
      "|   |   |   |--- class: 0\n",
      "|   |   |--- feature_7 >  0.00\n",
      "|   |   |   |--- class: 0\n",
      "|   |--- feature_5 >  0.54\n",
      "|   |   |--- feature_6 <= 0.01\n",
      "|   |   |   |--- class: 0\n",
      "|   |   |--- feature_6 >  0.01\n",
      "|   |   |   |--- class: 1\n",
      "|--- feature_5 >  0.63\n",
      "|   |--- feature_4 <= 0.00\n",
      "|   |   |--- feature_5 <= 0.80\n",
      "|   |   |   |--- class: 0\n",
      "|   |   |--- feature_5 >  0.80\n",
      "|   |   |   |--- class: 1\n",
      "|   |--- feature_4 >  0.00\n",
      "|   |   |--- feature_4 <= 0.25\n",
      "|   |   |   |--- class: 1\n",
      "|   |   |--- feature_4 >  0.25\n",
      "|   |   |   |--- class: 1\n",
      "\n"
     ]
    }
   ],
   "source": [
    "text_representation = tree.export_text(dt_model)\n",
    "print(text_representation)\n"
   ]
  },
  {
   "attachments": {},
   "cell_type": "markdown",
   "metadata": {},
   "source": [
    "### 4.5.2 Training SVM model with optimal hyperparameters\n"
   ]
  },
  {
   "cell_type": "code",
   "execution_count": 2623,
   "metadata": {},
   "outputs": [
    {
     "name": "stdout",
     "output_type": "stream",
     "text": [
      "Fitting 5 folds for each of 9 candidates, totalling 45 fits\n",
      "[CV 1/5] END ....................C=0.1, gamma=1;, score=0.901 total time=   0.8s\n",
      "[CV 2/5] END ....................C=0.1, gamma=1;, score=0.909 total time=   0.8s\n",
      "[CV 3/5] END ....................C=0.1, gamma=1;, score=0.925 total time=   0.8s\n",
      "[CV 4/5] END ....................C=0.1, gamma=1;, score=0.929 total time=   0.8s\n",
      "[CV 5/5] END ....................C=0.1, gamma=1;, score=0.912 total time=   0.8s\n",
      "[CV 1/5] END ..................C=0.1, gamma=0.1;, score=0.903 total time=   1.0s\n",
      "[CV 2/5] END ..................C=0.1, gamma=0.1;, score=0.912 total time=   1.0s\n",
      "[CV 3/5] END ..................C=0.1, gamma=0.1;, score=0.931 total time=   1.0s\n",
      "[CV 4/5] END ..................C=0.1, gamma=0.1;, score=0.925 total time=   1.0s\n",
      "[CV 5/5] END ..................C=0.1, gamma=0.1;, score=0.929 total time=   1.0s\n",
      "[CV 1/5] END .................C=0.1, gamma=0.01;, score=0.948 total time=   1.3s\n",
      "[CV 2/5] END .................C=0.1, gamma=0.01;, score=0.941 total time=   1.3s\n",
      "[CV 3/5] END .................C=0.1, gamma=0.01;, score=0.925 total time=   1.3s\n",
      "[CV 4/5] END .................C=0.1, gamma=0.01;, score=0.948 total time=   1.3s\n",
      "[CV 5/5] END .................C=0.1, gamma=0.01;, score=0.947 total time=   1.3s\n",
      "[CV 1/5] END ......................C=1, gamma=1;, score=0.882 total time=   0.6s\n",
      "[CV 2/5] END ......................C=1, gamma=1;, score=0.914 total time=   0.7s\n",
      "[CV 3/5] END ......................C=1, gamma=1;, score=0.927 total time=   0.7s\n",
      "[CV 4/5] END ......................C=1, gamma=1;, score=0.937 total time=   0.7s\n",
      "[CV 5/5] END ......................C=1, gamma=1;, score=0.922 total time=   0.7s\n",
      "[CV 1/5] END ....................C=1, gamma=0.1;, score=0.868 total time=   0.8s\n",
      "[CV 2/5] END ....................C=1, gamma=0.1;, score=0.900 total time=   0.8s\n",
      "[CV 3/5] END ....................C=1, gamma=0.1;, score=0.915 total time=   0.8s\n",
      "[CV 4/5] END ....................C=1, gamma=0.1;, score=0.915 total time=   0.8s\n",
      "[CV 5/5] END ....................C=1, gamma=0.1;, score=0.888 total time=   0.8s\n",
      "[CV 1/5] END ...................C=1, gamma=0.01;, score=0.903 total time=   1.0s\n",
      "[CV 2/5] END ...................C=1, gamma=0.01;, score=0.918 total time=   1.0s\n",
      "[CV 3/5] END ...................C=1, gamma=0.01;, score=0.929 total time=   1.1s\n",
      "[CV 4/5] END ...................C=1, gamma=0.01;, score=0.933 total time=   1.0s\n",
      "[CV 5/5] END ...................C=1, gamma=0.01;, score=0.937 total time=   1.0s\n",
      "[CV 1/5] END .....................C=10, gamma=1;, score=0.879 total time=   0.6s\n",
      "[CV 2/5] END .....................C=10, gamma=1;, score=0.908 total time=   0.7s\n",
      "[CV 3/5] END .....................C=10, gamma=1;, score=0.941 total time=   0.7s\n",
      "[CV 4/5] END .....................C=10, gamma=1;, score=0.933 total time=   0.7s\n",
      "[CV 5/5] END .....................C=10, gamma=1;, score=0.919 total time=   0.7s\n",
      "[CV 1/5] END ...................C=10, gamma=0.1;, score=0.875 total time=   0.7s\n",
      "[CV 2/5] END ...................C=10, gamma=0.1;, score=0.907 total time=   0.8s\n",
      "[CV 3/5] END ...................C=10, gamma=0.1;, score=0.920 total time=   0.7s\n",
      "[CV 4/5] END ...................C=10, gamma=0.1;, score=0.920 total time=   0.8s\n",
      "[CV 5/5] END ...................C=10, gamma=0.1;, score=0.900 total time=   0.8s\n",
      "[CV 1/5] END ..................C=10, gamma=0.01;, score=0.863 total time=   0.9s\n",
      "[CV 2/5] END ..................C=10, gamma=0.01;, score=0.882 total time=   0.8s\n",
      "[CV 3/5] END ..................C=10, gamma=0.01;, score=0.897 total time=   0.8s\n",
      "[CV 4/5] END ..................C=10, gamma=0.01;, score=0.903 total time=   0.9s\n",
      "[CV 5/5] END ..................C=10, gamma=0.01;, score=0.892 total time=   0.9s\n"
     ]
    },
    {
     "data": {
      "text/html": [
       "<style>#sk-container-id-29 {color: black;background-color: white;}#sk-container-id-29 pre{padding: 0;}#sk-container-id-29 div.sk-toggleable {background-color: white;}#sk-container-id-29 label.sk-toggleable__label {cursor: pointer;display: block;width: 100%;margin-bottom: 0;padding: 0.3em;box-sizing: border-box;text-align: center;}#sk-container-id-29 label.sk-toggleable__label-arrow:before {content: \"▸\";float: left;margin-right: 0.25em;color: #696969;}#sk-container-id-29 label.sk-toggleable__label-arrow:hover:before {color: black;}#sk-container-id-29 div.sk-estimator:hover label.sk-toggleable__label-arrow:before {color: black;}#sk-container-id-29 div.sk-toggleable__content {max-height: 0;max-width: 0;overflow: hidden;text-align: left;background-color: #f0f8ff;}#sk-container-id-29 div.sk-toggleable__content pre {margin: 0.2em;color: black;border-radius: 0.25em;background-color: #f0f8ff;}#sk-container-id-29 input.sk-toggleable__control:checked~div.sk-toggleable__content {max-height: 200px;max-width: 100%;overflow: auto;}#sk-container-id-29 input.sk-toggleable__control:checked~label.sk-toggleable__label-arrow:before {content: \"▾\";}#sk-container-id-29 div.sk-estimator input.sk-toggleable__control:checked~label.sk-toggleable__label {background-color: #d4ebff;}#sk-container-id-29 div.sk-label input.sk-toggleable__control:checked~label.sk-toggleable__label {background-color: #d4ebff;}#sk-container-id-29 input.sk-hidden--visually {border: 0;clip: rect(1px 1px 1px 1px);clip: rect(1px, 1px, 1px, 1px);height: 1px;margin: -1px;overflow: hidden;padding: 0;position: absolute;width: 1px;}#sk-container-id-29 div.sk-estimator {font-family: monospace;background-color: #f0f8ff;border: 1px dotted black;border-radius: 0.25em;box-sizing: border-box;margin-bottom: 0.5em;}#sk-container-id-29 div.sk-estimator:hover {background-color: #d4ebff;}#sk-container-id-29 div.sk-parallel-item::after {content: \"\";width: 100%;border-bottom: 1px solid gray;flex-grow: 1;}#sk-container-id-29 div.sk-label:hover label.sk-toggleable__label {background-color: #d4ebff;}#sk-container-id-29 div.sk-serial::before {content: \"\";position: absolute;border-left: 1px solid gray;box-sizing: border-box;top: 0;bottom: 0;left: 50%;z-index: 0;}#sk-container-id-29 div.sk-serial {display: flex;flex-direction: column;align-items: center;background-color: white;padding-right: 0.2em;padding-left: 0.2em;position: relative;}#sk-container-id-29 div.sk-item {position: relative;z-index: 1;}#sk-container-id-29 div.sk-parallel {display: flex;align-items: stretch;justify-content: center;background-color: white;position: relative;}#sk-container-id-29 div.sk-item::before, #sk-container-id-29 div.sk-parallel-item::before {content: \"\";position: absolute;border-left: 1px solid gray;box-sizing: border-box;top: 0;bottom: 0;left: 50%;z-index: -1;}#sk-container-id-29 div.sk-parallel-item {display: flex;flex-direction: column;z-index: 1;position: relative;background-color: white;}#sk-container-id-29 div.sk-parallel-item:first-child::after {align-self: flex-end;width: 50%;}#sk-container-id-29 div.sk-parallel-item:last-child::after {align-self: flex-start;width: 50%;}#sk-container-id-29 div.sk-parallel-item:only-child::after {width: 0;}#sk-container-id-29 div.sk-dashed-wrapped {border: 1px dashed gray;margin: 0 0.4em 0.5em 0.4em;box-sizing: border-box;padding-bottom: 0.4em;background-color: white;}#sk-container-id-29 div.sk-label label {font-family: monospace;font-weight: bold;display: inline-block;line-height: 1.2em;}#sk-container-id-29 div.sk-label-container {text-align: center;}#sk-container-id-29 div.sk-container {/* jupyter's `normalize.less` sets `[hidden] { display: none; }` but bootstrap.min.css set `[hidden] { display: none !important; }` so we also need the `!important` here to be able to override the default hidden behavior on the sphinx rendered scikit-learn.org. See: https://github.com/scikit-learn/scikit-learn/issues/21755 */display: inline-block !important;position: relative;}#sk-container-id-29 div.sk-text-repr-fallback {display: none;}</style><div id=\"sk-container-id-29\" class=\"sk-top-container\"><div class=\"sk-text-repr-fallback\"><pre>GridSearchCV(cv=5, estimator=SVC(),\n",
       "             param_grid={&#x27;C&#x27;: [0.1, 1, 10], &#x27;gamma&#x27;: [1, 0.1, 0.01]},\n",
       "             scoring=make_scorer(recall_score), verbose=3)</pre><b>In a Jupyter environment, please rerun this cell to show the HTML representation or trust the notebook. <br />On GitHub, the HTML representation is unable to render, please try loading this page with nbviewer.org.</b></div><div class=\"sk-container\" hidden><div class=\"sk-item sk-dashed-wrapped\"><div class=\"sk-label-container\"><div class=\"sk-label sk-toggleable\"><input class=\"sk-toggleable__control sk-hidden--visually\" id=\"sk-estimator-id-85\" type=\"checkbox\" ><label for=\"sk-estimator-id-85\" class=\"sk-toggleable__label sk-toggleable__label-arrow\">GridSearchCV</label><div class=\"sk-toggleable__content\"><pre>GridSearchCV(cv=5, estimator=SVC(),\n",
       "             param_grid={&#x27;C&#x27;: [0.1, 1, 10], &#x27;gamma&#x27;: [1, 0.1, 0.01]},\n",
       "             scoring=make_scorer(recall_score), verbose=3)</pre></div></div></div><div class=\"sk-parallel\"><div class=\"sk-parallel-item\"><div class=\"sk-item\"><div class=\"sk-label-container\"><div class=\"sk-label sk-toggleable\"><input class=\"sk-toggleable__control sk-hidden--visually\" id=\"sk-estimator-id-86\" type=\"checkbox\" ><label for=\"sk-estimator-id-86\" class=\"sk-toggleable__label sk-toggleable__label-arrow\">estimator: SVC</label><div class=\"sk-toggleable__content\"><pre>SVC()</pre></div></div></div><div class=\"sk-serial\"><div class=\"sk-item\"><div class=\"sk-estimator sk-toggleable\"><input class=\"sk-toggleable__control sk-hidden--visually\" id=\"sk-estimator-id-87\" type=\"checkbox\" ><label for=\"sk-estimator-id-87\" class=\"sk-toggleable__label sk-toggleable__label-arrow\">SVC</label><div class=\"sk-toggleable__content\"><pre>SVC()</pre></div></div></div></div></div></div></div></div></div></div>"
      ],
      "text/plain": [
       "GridSearchCV(cv=5, estimator=SVC(),\n",
       "             param_grid={'C': [0.1, 1, 10], 'gamma': [1, 0.1, 0.01]},\n",
       "             scoring=make_scorer(recall_score), verbose=3)"
      ]
     },
     "execution_count": 2623,
     "metadata": {},
     "output_type": "execute_result"
    }
   ],
   "source": [
    "# defining parameter range\n",
    "param_grid = {'C': [0.1, 1, 10],\n",
    "              'gamma': [1, 0.1, 0.01]\n",
    "              }\n",
    "\n",
    "# defining the scoring metric as recall\n",
    "scoring = make_scorer(recall_score)\n",
    "\n",
    "# creating the GridSearchCV object with the custom scoring metric\n",
    "grid = GridSearchCV(SVC(), param_grid, refit=True,\n",
    "                    verbose=3, scoring=scoring, cv=5)\n",
    "\n",
    "# fitting the model for grid search\n",
    "grid.fit(X_train, y_train)\n"
   ]
  },
  {
   "cell_type": "code",
   "execution_count": 2624,
   "metadata": {},
   "outputs": [
    {
     "name": "stdout",
     "output_type": "stream",
     "text": [
      "{'C': 0.1, 'gamma': 0.01}\n",
      "SVC(C=0.1, gamma=0.01)\n"
     ]
    }
   ],
   "source": [
    "# print best parameter after tuning\n",
    "print(grid.best_params_)\n",
    "\n",
    "# print how our model looks after hyper-parameter tuning\n",
    "print(grid.best_estimator_)\n"
   ]
  },
  {
   "cell_type": "code",
   "execution_count": 2625,
   "metadata": {},
   "outputs": [
    {
     "name": "stdout",
     "output_type": "stream",
     "text": [
      "Accuracy: 0.418622848200313\n",
      "Recall: 0.9193548387096774\n",
      "Precision: 0.07169811320754717\n",
      "F1-score: 0.13302217036172695\n"
     ]
    }
   ],
   "source": [
    "svc_model = SVC(C=grid.best_params_['C'], gamma=grid.best_params_['gamma'])\n",
    "svc_model.fit(X_train, y_train)\n",
    "y_pred_svc = svc_model.predict(X_test)\n",
    "print(f\"Accuracy: {accuracy_score(y_test, y_pred_svc)}\")\n",
    "print(f\"Recall: {recall_score(y_test, y_pred_svc)}\")\n",
    "print(f\"Precision: {precision_score(y_test, y_pred_svc)}\")\n",
    "print(f\"F1-score: {f1_score(y_test, y_pred_svc)}\")\n"
   ]
  },
  {
   "attachments": {},
   "cell_type": "markdown",
   "metadata": {},
   "source": [
    "# 5. Model evaluation\n"
   ]
  },
  {
   "attachments": {},
   "cell_type": "markdown",
   "metadata": {},
   "source": [
    "<!DOCTYPE html>\n",
    "<html>\n",
    "<head>\n",
    "\t<title>HTML Table Generator</title> \n",
    "\t<style>\n",
    "\t\ttable {\n",
    "\t\t\tborder:1px groove #000000;\n",
    "\t\t\tborder-collapse:collapse;\n",
    "\t\t\tpadding:5px;\n",
    "\t\t}\n",
    "\t\ttable th {\n",
    "\t\t\tborder:1px groove #000000;\n",
    "\t\t\tpadding:5px;\n",
    "\t\t\tbackground: #d1d1d1;\n",
    "\t\t\tcolor: #000000;\n",
    "\t\t}\n",
    "\t\ttable td {\n",
    "\t\t\tborder:1px groove #000000;\n",
    "\t\t\ttext-align:center;\n",
    "\t\t\tpadding:5px;\n",
    "\t\t\tbackground: #ffffff;\n",
    "\t\t\tcolor: #313030;\n",
    "\t\t}\n",
    "\t</style>\n",
    "</head>\n",
    "<body>\n",
    "    <table>\n",
    "    \t<thead>\n",
    "    \t\t<tr>\n",
    "    \t\t\t<th>Model</th>\n",
    "    \t\t\t<th>No optimization</th>\n",
    "    \t\t\t<th>Over-sampling</th>\n",
    "    \t\t\t<th>Feature selection</th>\n",
    "    \t\t\t<th>Hyper-parameter tuning</th>\n",
    "    \t\t</tr>\n",
    "    \t</thead>\n",
    "    \t<tbody>\n",
    "    \t\t<tr>\n",
    "    \t\t\t<td>&nbsp;SVM</td>\n",
    "    \t\t\t<td>&nbsp;0</td>\n",
    "    \t\t\t<td>&nbsp;0.58</td>\n",
    "    \t\t\t<td>&nbsp;0.69</td>\n",
    "    \t\t\t<td>0.92&nbsp;</td>\n",
    "    \t\t</tr>\n",
    "    \t\t<tr>\n",
    "    \t\t\t<td>&nbsp;Decision Tree</td>\n",
    "    \t\t\t<td>&nbsp;0.1</td>\n",
    "    \t\t\t<td>&nbsp;0.13</td>\n",
    "    \t\t\t<td>&nbsp;0.19</td>\n",
    "    \t\t\t<td>0.77</td>\n",
    "    \t\t</tr>\n",
    "    \t</tbody>\n",
    "    </table>\n",
    "</body>\n",
    "</html>\n"
   ]
  },
  {
   "attachments": {},
   "cell_type": "markdown",
   "metadata": {},
   "source": []
  }
 ],
 "metadata": {
  "kernelspec": {
   "display_name": "base",
   "language": "python",
   "name": "python3"
  },
  "language_info": {
   "codemirror_mode": {
    "name": "ipython",
    "version": 3
   },
   "file_extension": ".py",
   "mimetype": "text/x-python",
   "name": "python",
   "nbconvert_exporter": "python",
   "pygments_lexer": "ipython3",
   "version": "3.10.9"
  },
  "orig_nbformat": 4
 },
 "nbformat": 4,
 "nbformat_minor": 2
}
